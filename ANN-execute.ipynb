{
 "cells": [
  {
   "cell_type": "markdown",
   "metadata": {},
   "source": [
    "Se carga el modelo y se obtienen los datos de la db que se utilizaran"
   ]
  },
  {
   "cell_type": "code",
   "execution_count": 1,
   "metadata": {
    "scrolled": true
   },
   "outputs": [
    {
     "name": "stderr",
     "output_type": "stream",
     "text": [
      "Using TensorFlow backend.\n",
      "WARNING: Logging before flag parsing goes to stderr.\n",
      "W1003 12:40:04.202665  6568 deprecation_wrapper.py:119] From c:\\users\\user\\appdata\\local\\programs\\python\\python36\\lib\\site-packages\\keras\\backend\\tensorflow_backend.py:517: The name tf.placeholder is deprecated. Please use tf.compat.v1.placeholder instead.\n",
      "\n",
      "W1003 12:40:04.214663  6568 deprecation_wrapper.py:119] From c:\\users\\user\\appdata\\local\\programs\\python\\python36\\lib\\site-packages\\keras\\backend\\tensorflow_backend.py:4138: The name tf.random_uniform is deprecated. Please use tf.random.uniform instead.\n",
      "\n",
      "W1003 12:40:04.249567  6568 deprecation_wrapper.py:119] From c:\\users\\user\\appdata\\local\\programs\\python\\python36\\lib\\site-packages\\keras\\backend\\tensorflow_backend.py:174: The name tf.get_default_session is deprecated. Please use tf.compat.v1.get_default_session instead.\n",
      "\n",
      "W1003 12:40:04.250565  6568 deprecation_wrapper.py:119] From c:\\users\\user\\appdata\\local\\programs\\python\\python36\\lib\\site-packages\\keras\\backend\\tensorflow_backend.py:181: The name tf.ConfigProto is deprecated. Please use tf.compat.v1.ConfigProto instead.\n",
      "\n",
      "W1003 12:40:04.250565  6568 deprecation_wrapper.py:119] From c:\\users\\user\\appdata\\local\\programs\\python\\python36\\lib\\site-packages\\keras\\backend\\tensorflow_backend.py:186: The name tf.Session is deprecated. Please use tf.compat.v1.Session instead.\n",
      "\n",
      "W1003 12:40:04.296443  6568 deprecation_wrapper.py:119] From c:\\users\\user\\appdata\\local\\programs\\python\\python36\\lib\\site-packages\\keras\\optimizers.py:790: The name tf.train.Optimizer is deprecated. Please use tf.compat.v1.train.Optimizer instead.\n",
      "\n"
     ]
    },
    {
     "name": "stdout",
     "output_type": "stream",
     "text": [
      "[('Sinaloa', 'Zacatecas: Mercado de Abasto de Zacatecas')]\n",
      "PostgreSQL connection is closed\n"
     ]
    }
   ],
   "source": [
    "import psycopg2\n",
    "import numpy as np\n",
    "from keras.models import load_model\n",
    "\n",
    "sourceMarketId = 1\n",
    "endMarketId = 40\n",
    "\n",
    "x_db = []\n",
    "x_min = 0\n",
    "x_max = 0\n",
    "\n",
    "\n",
    "try:\n",
    "    connection = psycopg2.connect(user = \"postgres\", password = \"r351d3nc14501\", host = \"127.0.0.1\", port = \"5432\", database = \"potatoe_markets\")\n",
    "    cursor = connection.cursor()\n",
    "    \n",
    "    postgreSQL_select_Query = \"select price from normalized_price where sourcemarketid = {} and endmarketid = {} order by sniimdate desc limit 25\".format(sourceMarketId, endMarketId)\n",
    "    cursor.execute(postgreSQL_select_Query)\n",
    "    #print(\"Selecting rows from mobile table using cursor.fetchall\")\n",
    "    value_records = cursor.fetchall()\n",
    "    #Save each column value into the correspondent  array\n",
    "    for row in value_records:\n",
    "        x_db.append(row[0])\n",
    "    \n",
    "    postgreSQL_select_Query = \"select (select marketName from market where marketid = {}), (select marketName from market where marketid = {})\".format(sourceMarketId, endMarketId)\n",
    "    cursor.execute(postgreSQL_select_Query)\n",
    "    #print(\"Selecting rows from mobile table using cursor.fetchall\")\n",
    "    value_records = cursor.fetchall()\n",
    "    #Save each column value into the correspondent  array\n",
    "    print(value_records)\n",
    "    sourceMarketName = value_records[0][0]\n",
    "    endMarketName = value_records[0][1]\n",
    "        \n",
    "    postgreSQL_select_Query = \"select min(price), max(price) from normalized_price\"\n",
    "    cursor.execute(postgreSQL_select_Query)\n",
    "    #print(\"Selecting rows from mobile table using cursor.fetchall\")\n",
    "    value_records = cursor.fetchall()\n",
    "    #Save each column value into the correspondent variable\n",
    "    x_min = np.float32(value_records[0][0])\n",
    "    x_max = np.float32(value_records[0][1])\n",
    "    \n",
    "except (Exception, psycopg2.Error) as error :\n",
    "    print (\"Error while fetching data from PostgreSQL\", error)\n",
    "finally:\n",
    "    #closing database connection.\n",
    "    if(connection):\n",
    "        cursor.close()\n",
    "        connection.close()\n",
    "        print(\"PostgreSQL connection is closed\")\n",
    "\n",
    "\n",
    "modelName = \"{} {}.h5\".format(sourceMarketName, endMarketName).replace(':', '')\n",
    "#model = load_model('Modelo_Zacatecas_Mercado_Abastos_Zacatecas.h5')\n",
    "model = load_model(modelName)\n",
    "        \n",
    "\n",
    "def scaleValues(x, x_min, x_max, r_min = 0, r_max = 1):\n",
    "    scale = (r_max - r_min) / (x_max - x_min)\n",
    "    X_scaled = (scale * x) + r_min - (x_min * scale)\n",
    "    return X_scaled\n",
    "\n",
    "\n",
    "for con in range(0, len(x_db)):\n",
    "    x_db[con] = scaleValues(float(x_db[con]), x_min, x_max)\n",
    "\n",
    "\n",
    "x_db.reverse()\n",
    "x_db = np.asarray(x_db)\n",
    "x_db = x_db.reshape((1, x_db.shape[0]))\n"
   ]
  },
  {
   "cell_type": "markdown",
   "metadata": {},
   "source": [
    "Se realiza la prediccion de uno o varios elementos"
   ]
  },
  {
   "cell_type": "code",
   "execution_count": 2,
   "metadata": {},
   "outputs": [
    {
     "name": "stdout",
     "output_type": "stream",
     "text": [
      "13.744477987289429\n"
     ]
    }
   ],
   "source": [
    "#Funcion encargada para revertir la escala del valor predecido\n",
    "def reverseScale(x_scaled, x_min, x_max, r_min = 0, r_max = 1):\n",
    "    scale = (r_max - r_min) / (x_max - x_min)\n",
    "    X = (x_scaled - r_min + (x_min * scale)) / scale  \n",
    "    return X\n",
    "\n",
    "#un elemento\n",
    "p2 = model.predict(x_db.reshape(1,25), 10, verbose=0)\n",
    "reverseScaledPrediction = reverseScale(p2[0][0], x_min, x_max)\n",
    "print(reverseScaledPrediction)"
   ]
  },
  {
   "cell_type": "code",
   "execution_count": 3,
   "metadata": {},
   "outputs": [
    {
     "name": "stdout",
     "output_type": "stream",
     "text": [
      "[13.744477987289429, 14.40894439816475, 15.066081404685974, 14.183828473091125, 13.668511837720871]\n"
     ]
    }
   ],
   "source": [
    "weekdayPredictions = []\n",
    "#5 elementos\n",
    "for con in range(0, 5):\n",
    "    pday = model.predict(x_db, 10, verbose=0)\n",
    "    x_db = np.reshape(x_db, x_db.shape[1])\n",
    "    x_db = np.delete(x_db, 0)\n",
    "    x_db = np.append(x_db, pday)\n",
    "    x_db = x_db.reshape(1,x_db.shape[0])\n",
    "    reverseScaledPrediction = reverseScale(pday[0][0], x_min, x_max)\n",
    "    weekdayPredictions.append(reverseScaledPrediction)\n",
    "\n",
    "print(weekdayPredictions)"
   ]
  },
  {
   "cell_type": "code",
   "execution_count": null,
   "metadata": {},
   "outputs": [],
   "source": []
  }
 ],
 "metadata": {
  "kernelspec": {
   "display_name": "Python 3",
   "language": "python",
   "name": "python3"
  },
  "language_info": {
   "codemirror_mode": {
    "name": "ipython",
    "version": 3
   },
   "file_extension": ".py",
   "mimetype": "text/x-python",
   "name": "python",
   "nbconvert_exporter": "python",
   "pygments_lexer": "ipython3",
   "version": "3.6.8"
  }
 },
 "nbformat": 4,
 "nbformat_minor": 2
}
